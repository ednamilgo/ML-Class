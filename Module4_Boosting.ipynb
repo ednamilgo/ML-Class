{
 "cells": [
  {
   "cell_type": "markdown",
   "id": "c84e19b8",
   "metadata": {},
   "source": [
    "# Ensemble Learning with Boosting and Random Forest on Wine Dataset\n",
    "\n",
    "In this notebook, we will use **Boosting** and **Ensemble** methods to classify different types of wine from the **Wine dataset**.\n",
    "\n",
    "We will apply the **Gradient Boosting Classifier** (a boosting algorithm) and the **Random Forest Classifier** (an ensemble method) to classify the wine classes. We will evaluate both models using **accuracy** and visualize the **confusion matrix** to understand how well the models perform.\n"
   ]
  },
  {
   "cell_type": "markdown",
   "id": "1ea89d31",
   "metadata": {},
   "source": [
    "### Step 1: Import Necessary Libraries\n",
    "\n",
    "We start by importing the necessary libraries for data handling, model training, and evaluation."
   ]
  },
  {
   "cell_type": "code",
   "execution_count": 1,
   "id": "103a4874",
   "metadata": {},
   "outputs": [],
   "source": [
    "# Import necessary libraries\n",
    "import pandas as pd\n",
    "from sklearn.ensemble import GradientBoostingClassifier, RandomForestClassifier\n",
    "from sklearn.model_selection import train_test_split\n",
    "from sklearn.metrics import accuracy_score, confusion_matrix\n",
    "import seaborn as sns\n",
    "import matplotlib.pyplot as plt\n"
   ]
  },
  {
   "cell_type": "markdown",
   "id": "dd8fce69",
   "metadata": {},
   "source": [
    "### Step 2: Load the Wine Dataset\n",
    "We will load the Wine dataset from the **wine.csv** file located in the **Datasets** folder. This dataset contains information about wine samples and their classes."
   ]
  },
  {
   "cell_type": "code",
   "execution_count": 2,
   "id": "7db7dd62",
   "metadata": {},
   "outputs": [
    {
     "data": {
      "text/html": [
       "<div>\n",
       "<style scoped>\n",
       "    .dataframe tbody tr th:only-of-type {\n",
       "        vertical-align: middle;\n",
       "    }\n",
       "\n",
       "    .dataframe tbody tr th {\n",
       "        vertical-align: top;\n",
       "    }\n",
       "\n",
       "    .dataframe thead th {\n",
       "        text-align: right;\n",
       "    }\n",
       "</style>\n",
       "<table border=\"1\" class=\"dataframe\">\n",
       "  <thead>\n",
       "    <tr style=\"text-align: right;\">\n",
       "      <th></th>\n",
       "      <th>fixed acidity</th>\n",
       "      <th>volatile acidity</th>\n",
       "      <th>citric acid</th>\n",
       "      <th>residual sugar</th>\n",
       "      <th>chlorides</th>\n",
       "      <th>free sulfur dioxide</th>\n",
       "      <th>total sulfur dioxide</th>\n",
       "      <th>density</th>\n",
       "      <th>pH</th>\n",
       "      <th>sulphates</th>\n",
       "      <th>alcohol</th>\n",
       "      <th>quality</th>\n",
       "    </tr>\n",
       "  </thead>\n",
       "  <tbody>\n",
       "    <tr>\n",
       "      <th>0</th>\n",
       "      <td>7.4</td>\n",
       "      <td>0.70</td>\n",
       "      <td>0.00</td>\n",
       "      <td>1.9</td>\n",
       "      <td>0.076</td>\n",
       "      <td>11.0</td>\n",
       "      <td>34.0</td>\n",
       "      <td>0.9978</td>\n",
       "      <td>3.51</td>\n",
       "      <td>0.56</td>\n",
       "      <td>9.4</td>\n",
       "      <td>5</td>\n",
       "    </tr>\n",
       "    <tr>\n",
       "      <th>1</th>\n",
       "      <td>7.8</td>\n",
       "      <td>0.88</td>\n",
       "      <td>0.00</td>\n",
       "      <td>2.6</td>\n",
       "      <td>0.098</td>\n",
       "      <td>25.0</td>\n",
       "      <td>67.0</td>\n",
       "      <td>0.9968</td>\n",
       "      <td>3.20</td>\n",
       "      <td>0.68</td>\n",
       "      <td>9.8</td>\n",
       "      <td>5</td>\n",
       "    </tr>\n",
       "    <tr>\n",
       "      <th>2</th>\n",
       "      <td>7.8</td>\n",
       "      <td>0.76</td>\n",
       "      <td>0.04</td>\n",
       "      <td>2.3</td>\n",
       "      <td>0.092</td>\n",
       "      <td>15.0</td>\n",
       "      <td>54.0</td>\n",
       "      <td>0.9970</td>\n",
       "      <td>3.26</td>\n",
       "      <td>0.65</td>\n",
       "      <td>9.8</td>\n",
       "      <td>5</td>\n",
       "    </tr>\n",
       "    <tr>\n",
       "      <th>3</th>\n",
       "      <td>11.2</td>\n",
       "      <td>0.28</td>\n",
       "      <td>0.56</td>\n",
       "      <td>1.9</td>\n",
       "      <td>0.075</td>\n",
       "      <td>17.0</td>\n",
       "      <td>60.0</td>\n",
       "      <td>0.9980</td>\n",
       "      <td>3.16</td>\n",
       "      <td>0.58</td>\n",
       "      <td>9.8</td>\n",
       "      <td>6</td>\n",
       "    </tr>\n",
       "    <tr>\n",
       "      <th>4</th>\n",
       "      <td>7.4</td>\n",
       "      <td>0.70</td>\n",
       "      <td>0.00</td>\n",
       "      <td>1.9</td>\n",
       "      <td>0.076</td>\n",
       "      <td>11.0</td>\n",
       "      <td>34.0</td>\n",
       "      <td>0.9978</td>\n",
       "      <td>3.51</td>\n",
       "      <td>0.56</td>\n",
       "      <td>9.4</td>\n",
       "      <td>5</td>\n",
       "    </tr>\n",
       "  </tbody>\n",
       "</table>\n",
       "</div>"
      ],
      "text/plain": [
       "   fixed acidity  volatile acidity  citric acid  residual sugar  chlorides  \\\n",
       "0            7.4              0.70         0.00             1.9      0.076   \n",
       "1            7.8              0.88         0.00             2.6      0.098   \n",
       "2            7.8              0.76         0.04             2.3      0.092   \n",
       "3           11.2              0.28         0.56             1.9      0.075   \n",
       "4            7.4              0.70         0.00             1.9      0.076   \n",
       "\n",
       "   free sulfur dioxide  total sulfur dioxide  density    pH  sulphates  \\\n",
       "0                 11.0                  34.0   0.9978  3.51       0.56   \n",
       "1                 25.0                  67.0   0.9968  3.20       0.68   \n",
       "2                 15.0                  54.0   0.9970  3.26       0.65   \n",
       "3                 17.0                  60.0   0.9980  3.16       0.58   \n",
       "4                 11.0                  34.0   0.9978  3.51       0.56   \n",
       "\n",
       "   alcohol  quality  \n",
       "0      9.4        5  \n",
       "1      9.8        5  \n",
       "2      9.8        5  \n",
       "3      9.8        6  \n",
       "4      9.4        5  "
      ]
     },
     "execution_count": 2,
     "metadata": {},
     "output_type": "execute_result"
    }
   ],
   "source": [
    "# Load the Wine dataset \n",
    "wine_data = pd.read_csv('Datasets/wineData.csv')\n",
    "\n",
    "# drop the id\n",
    "wine_data = wine_data.drop('Id', axis=1)\n",
    "wine_data.head()  # Display the first 5 rows of the dataset"
   ]
  },
  {
   "cell_type": "code",
   "execution_count": null,
   "id": "ae3814df-00cb-4a19-8b3b-6c2159ad8183",
   "metadata": {},
   "outputs": [],
   "source": []
  },
  {
   "cell_type": "markdown",
   "id": "d76968ba",
   "metadata": {},
   "source": [
    "### Step 3: Split the Dataset into Features and Target\n",
    "We will separate the dataset into the feature variables (X) and the target variable (y), which indicates the wine class."
   ]
  },
  {
   "cell_type": "code",
   "execution_count": 3,
   "id": "eb76e7af",
   "metadata": {},
   "outputs": [],
   "source": [
    "# Split the dataset into features (X) and target variable (y)\n",
    "X = wine_data.drop('quality', axis=1)  # Features\n",
    "y = wine_data['quality']  # Target variable (wine class)"
   ]
  },
  {
   "cell_type": "markdown",
   "id": "6f832f99",
   "metadata": {},
   "source": [
    "### Step 4: Split the Data into Training and Test Sets\n",
    "We will split the dataset into training and test sets (80% for training and 20% for testing). This helps us evaluate the models on unseen data."
   ]
  },
  {
   "cell_type": "code",
   "execution_count": 4,
   "id": "885e23c3",
   "metadata": {},
   "outputs": [],
   "source": [
    "# Split the data into training and test sets (80% train, 20% test)\n",
    "X_train, X_test, y_train, y_test = train_test_split(X, y, test_size=0.2, random_state=42)\n"
   ]
  },
  {
   "cell_type": "markdown",
   "id": "ebba83f9",
   "metadata": {},
   "source": [
    "### Step 5: Train the Models\n",
    "Now, we will train two models: a **Gradient Boosting Classifier** and a **Random Forest Classifier**. Both are ensemble methods that are well-suited for classification tasks like this one."
   ]
  },
  {
   "cell_type": "code",
   "execution_count": null,
   "id": "3791b07b",
   "metadata": {},
   "outputs": [],
   "source": [
    "# Train the Gradient Boosting Classifier\n",
    "gb = GradientBoostingClassifier(random_state=42)\n",
    "gb.fit(X_train, y_train)\n",
    "\n",
    "# Train the Random Forest Classifier\n",
    "rf = RandomForestClassifier(random_state=42)\n",
    "rf.fit(X_train, y_train)\n",
    "\n",
    "# Evaluate the models' accuracy\n",
    "y_pred_gb = gb.predict(X_test)\n",
    "y_pred_rf = rf.predict(X_test)"
   ]
  },
  {
   "cell_type": "markdown",
   "id": "c99e07eb",
   "metadata": {},
   "source": [
    "### Step 6: Evaluate the Models\n",
    "We will now evaluate both models by calculating their **accuracy** on the test set. Accuracy is a measure of how many predictions were correct out of the total predictions."
   ]
  },
  {
   "cell_type": "code",
   "execution_count": null,
   "id": "02f7ae64",
   "metadata": {},
   "outputs": [],
   "source": [
    "accuracy_gb = accuracy_score(y_test, y_pred_gb)\n",
    "accuracy_rf = accuracy_score(y_test, y_pred_rf)\n",
    "print(f'Accuracy of Gradient Boosting Classifier: {accuracy_gb:.2f}')\n",
    "print(f'Accuracy of Random Forest Classifier: {accuracy_rf:.2f}')\n"
   ]
  },
  {
   "cell_type": "markdown",
   "id": "9668b0e3",
   "metadata": {},
   "source": [
    "### Step 7: Visualize the Confusion Matrix\n",
    "We will now visualize the confusion matrix for both models. "
   ]
  },
  {
   "cell_type": "code",
   "execution_count": null,
   "id": "97358e11",
   "metadata": {},
   "outputs": [],
   "source": [
    "# Confusion Matrix Visualization for Gradient Boosting\n",
    "conf_matrix_gb = confusion_matrix(y_test, y_pred_gb)\n",
    "plt.figure(figsize=(8, 6))\n",
    "sns.heatmap(conf_matrix_gb, annot=True, fmt='d', cmap='Blues', xticklabels=y.unique(), yticklabels=y.unique())\n",
    "plt.title('Confusion Matrix - Gradient Boosting Classifier')\n",
    "plt.xlabel('Predicted Class')\n",
    "plt.ylabel('True Class')\n",
    "plt.show()\n",
    "\n",
    "# Confusion Matrix Visualization for Random Forest\n",
    "conf_matrix_rf = confusion_matrix(y_test, y_pred_rf)\n",
    "plt.figure(figsize=(8, 6))\n",
    "sns.heatmap(conf_matrix_rf, annot=True, fmt='d', cmap='Blues', xticklabels=y.unique(), yticklabels=y.unique())\n",
    "plt.title('Confusion Matrix - Random Forest Classifier')\n",
    "plt.xlabel('Predicted Class')\n",
    "plt.ylabel('True Class')\n",
    "plt.show()\n"
   ]
  },
  {
   "cell_type": "code",
   "execution_count": null,
   "id": "7967dc69-5199-41f4-bfdc-d08db4c17796",
   "metadata": {},
   "outputs": [],
   "source": []
  }
 ],
 "metadata": {
  "kernelspec": {
   "display_name": "Python 3 (ipykernel)",
   "language": "python",
   "name": "python3"
  },
  "language_info": {
   "codemirror_mode": {
    "name": "ipython",
    "version": 3
   },
   "file_extension": ".py",
   "mimetype": "text/x-python",
   "name": "python",
   "nbconvert_exporter": "python",
   "pygments_lexer": "ipython3",
   "version": "3.11.7"
  }
 },
 "nbformat": 4,
 "nbformat_minor": 5
}
