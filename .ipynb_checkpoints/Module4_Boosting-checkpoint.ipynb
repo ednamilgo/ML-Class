{
 "cells": [
  {
   "cell_type": "markdown",
   "metadata": {},
   "source": [
    "# AdaBoost Classifier on the Iris Dataset\n",
    "\n",
    "In this notebook, we will apply the AdaBoost algorithm to classify the Iris dataset. We will use a Decision Tree classifier as a weak classifier for boosting. We will also evaluate the model's performance using accuracy and a confusion matrix."
   ]
  },
  {
   "cell_type": "code",
   "execution_count": 1,
   "metadata": {},
   "outputs": [],
   "source": [
    "# Import necessary libraries\n",
    "from sklearn.ensemble import AdaBoostClassifier\n",
    "from sklearn.tree import DecisionTreeClassifier\n",
    "from sklearn.datasets import load_iris\n",
    "from sklearn.model_selection import train_test_split\n",
    "from sklearn.metrics import accuracy_score, confusion_matrix\n",
    "import seaborn as sns\n",
    "import matplotlib.pyplot as plt"
   ]
  },
  {
   "cell_type": "markdown",
   "metadata": {},
   "source": [
    "### Step 1: Load the Iris Dataset\n",
    "The Iris dataset contains 150 samples of iris flowers, each with 4 features: sepal length, sepal width, petal length, and petal width. There are three species of iris flowers in the dataset."
   ]
  },
  {
   "cell_type": "code",
   "execution_count": 2,
   "metadata": {},
   "outputs": [],
   "source": [
    "# Load dataset\n",
    "iris = load_iris()\n",
    "X = iris.data\n",
    "y = iris.target"
   ]
  },
  {
   "cell_type": "markdown",
   "metadata": {},
   "source": [
    "### Step 2: Split the Dataset into Training and Testing Sets\n",
    "We will split the dataset into 80% for training and 20% for testing using `train_test_split`."
   ]
  },
  {
   "cell_type": "code",
   "execution_count": 3,
   "metadata": {},
   "outputs": [],
   "source": [
    "# Split dataset\n",
    "X_train, X_test, y_train, y_test = train_test_split(X, y, test_size=0.2, random_state=42)"
   ]
  },
  {
   "cell_type": "markdown",
   "metadata": {},
   "source": [
    "### Step 3: Apply AdaBoost with a Decision Tree Classifier\n",
    "We will use a Decision Tree with a maximum depth of 1 as the base classifier for the AdaBoost algorithm."
   ]
  },
  {
   "cell_type": "code",
   "execution_count": 4,
   "metadata": {},
   "outputs": [],
   "source": [
    "# Weak classifier (decision tree)\n",
    "dt = DecisionTreeClassifier(max_depth=1)\n",
    "\n",
    "# Boosting with AdaBoost\n",
    "ada = AdaBoostClassifier(base_estimator=dt, n_estimators=50, random_state=42)\n",
    "ada.fit(X_train, y_train)"
   ]
  },
  {
   "cell_type": "markdown",
   "metadata": {},
   "source": [
    "### Step 4: Predict and Evaluate the Model\n",
    "After training the AdaBoost classifier, we will make predictions on the test set and evaluate the model using accuracy and a confusion matrix."
   ]
  },
  {
   "cell_type": "code",
   "execution_count": 5,
   "metadata": {},
   "outputs": [
    {
     "data": {
      "text/plain": [
       "AdaBoost Accuracy: 0.97"
      ]
     },
     "execution_count": 5,
     "metadata": {},
     "output_type": "stream"
    }
   ],
   "source": [
    "# Predict and evaluate\n",
    "y_pred_ada = ada.predict(X_test)\n",
    "accuracy_ada = accuracy_score(y_test, y_pred_ada)\n",
    "print(f'AdaBoost Accuracy: {accuracy_ada:.2f}')"
   ]
  },
  {
   "cell_type": "markdown",
   "metadata": {},
   "source": [
    "### Step 5: Confusion Matrix\n",
    "We will visualize the confusion matrix to see how well the model is performing for each class (species)."
   ]
  },
  {
   "cell_type": "code",
   "execution_count": 6,
   "metadata": {},
   "outputs": [],
   "source": [
    "# Confusion Matrix\n",
    "cm_ada = confusion_matrix(y_test, y_pred_ada)\n",
    "sns.heatmap(cm_ada, annot=True, fmt='d', cmap='Blues', xticklabels=iris.target_names, yticklabels=iris.target_names)\n",
    "plt.title('Confusion Matrix for AdaBoost')\n",
    "plt.show()"
   ]
  }
 ],
 "metadata": {
  "kernelspec": {
   "display_name": "Python 3",
   "language": "python",
   "name": "python3"
  },
  "language_info": {
   "codemirror_mode": {
    "name": "ipython",
    "version": 3
   },
   "file_extension": ".py",
   "mimetype": "text/x-python",
   "name": "python",
   "nbconvert_exporter": "python",
   "version": "3.8.5"
  }
 },
 "nbformat": 4,
 "nbformat_minor": 5
}
