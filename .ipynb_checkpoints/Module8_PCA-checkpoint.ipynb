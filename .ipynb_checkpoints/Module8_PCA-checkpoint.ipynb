{
 "cells": [
  {
   "cell_type": "markdown",
   "metadata": {},
   "source": [
    "# Principal Component Analysis (PCA) on Iris Dataset\n",
    "\n",
    "In this notebook, we will apply **Principal Component Analysis (PCA)** to the **Iris dataset**. PCA is a dimensionality reduction technique that helps in reducing the number of features while preserving the variance in the data.\n",
    "\n",
    "## Steps:\n",
    "1. **Load the Iris dataset**\n",
    "2. **Standardize the data**\n",
    "3. **Apply PCA**\n",
    "4. **Visualize the results**\n",
    "5. **Interpret the explained variance**"
   ]
  },
  {
   "cell_type": "code",
   "execution_count": 1,
   "id": "c8079e1c",
   "metadata": {},
   "outputs": [],
   "source": [
    "# Import necessary libraries\n",
    "import numpy as np\n",
    "import pandas as pd\n",
    "import matplotlib.pyplot as plt\n",
    "from sklearn.decomposition import PCA\n",
    "from sklearn.preprocessing import StandardScaler\n",
    "from sklearn.datasets import load_iris\n",
    "\n",
    "# Step 1: Load the Iris dataset\n",
    "iris = load_iris()\n",
    "X = iris.data\n",
    "y = iris.target\n",
    "\n",
    "# Check the shape of the data\n",
    "X.shape"
   ]
  },
  {
   "cell_type": "markdown",
   "metadata": {},
   "source": [
    "The Iris dataset contains 150 samples with 4 features each. Now, let's standardize the data to ensure that PCA works optimally, since PCA is sensitive to the scale of the data."
   ]
  },
  {
   "cell_type": "code",
   "execution_count": 2,
   "id": "8d5f3f90",
   "metadata": {},
   "outputs": [],
   "source": [
    "# Step 2: Standardize the data\n",
    "scaler = StandardScaler()\n",
    "X_scaled = scaler.fit_transform(X)\n",
    "\n",
    "# Check the mean and standard deviation after scaling\n",
    "np.mean(X_scaled, axis=0), np.std(X_scaled, axis=0)"
   ]
  },
  {
   "cell_type": "markdown",
   "metadata": {},
   "source": [
    "The data has been standardized, which ensures that each feature has a mean of 0 and a standard deviation of 1. We can now apply PCA to reduce the dataset to two principal components."
   ]
  },
  {
   "cell_type": "code",
   "execution_count": 3,
   "id": "e69e8b07",
   "metadata": {},
   "outputs": [],
   "source": [
    "# Step 3: Apply PCA\n",
    "pca = PCA(n_components=2)  # Reduce to 2 components\n",
    "X_pca = pca.fit_transform(X_scaled)\n",
    "\n",
    "# Check the shape of the PCA-transformed data\n",
    "X_pca.shape"
   ]
  },
  {
   "cell_type": "markdown",
   "metadata": {},
   "source": [
    "We have reduced the dataset to 2 principal components. Next, let's visualize the transformed data in a 2D plot."
   ]
  },
  {
   "cell_type": "code",
   "execution_count": 4,
   "id": "f7a968bb",
   "metadata": {},
   "outputs": [
    {
     "data": {
      "text/plain": [
       "<matplotlib.figure.Figure at 0x7f9e09fcb3a0>"
      ]
     },
     "execution_count": 4,
     "metadata": {},
     "output_type": "execute_result"
    }
   ],
   "source": [
    "# Step 4: Visualize the PCA results\n",
    "plt.figure(figsize=(8, 6))\n",
    "plt.scatter(X_pca[:, 0], X_pca[:, 1], c=y, cmap='viridis', edgecolor='k', s=100)\n",
    "plt.title('PCA of Iris Dataset')\n",
    "plt.xlabel('Principal Component 1')\n",
    "plt.ylabel('Principal Component 2')\n",
    "plt.colorbar(label='Class Label')\n",
    "plt.show()"
   ]
  },
  {
   "cell_type": "markdown",
   "metadata": {},
   "source": [
    "The scatter plot above shows the first two principal components of the Iris dataset. Each point is color-coded according to its class label (species of Iris).\n",
    "\n",
    "Next, let's check the **explained variance** to see how much of the original data's variance is captured by the two principal components."
   ]
  },
  {
   "cell_type": "code",
   "execution_count": 5,
   "id": "5c8e15c4",
   "metadata": {},
   "outputs": [
    {
     "data": {
      "text/plain": [
       "Explained Variance Ratio: [0.92461872 0.05306648]\n",
       "Total Variance Explained by 2 Components: 0.9776851992773527"
      ]
     },
     "execution_count": 5,
     "metadata": {},
     "output_type": "execute_result"
    }
   ],
   "source": [
    "# Step 5: Explained Variance\n",
    "print(f'Explained Variance Ratio: {pca.explained_variance_ratio_}')\n",
    "print(f'Total Variance Explained by 2 Components: {sum(pca.explained_variance_ratio_)}')"
   ]
  },
  {
   "cell_type": "markdown",
   "metadata": {},
   "source": [
    "The first two principal components explain approximately **97.77%** of the total variance in the dataset, which indicates that the dimensionality reduction was highly effective.\n",
    "\n",
    "This concludes our PCA example. We have demonstrated how to reduce the dimensionality of the Iris dataset using PCA, visualize the results, and interpret the explained variance."
   ]
  }
 ],
 "metadata": {
  "kernelspec": {
   "display_name": "Python 3",
   "language": "python",
   "name": "python3"
  },
  "language_info": {
   "codemirror_mode": {
    "name": "ipython",
    "version": 3
   },
   "file_extension": ".py",
   "mimetype": "text/x-python",
   "name": "python",
   "nbconvert_exporter": "python",
   "version": "3.8.5"
  }
 },
 "nbformat": 4,
 "nbformat_minor": 5
}
