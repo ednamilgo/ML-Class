{
 "cells": [
  {
   "cell_type": "markdown",
   "metadata": {},
   "source": [
    "# Multi-Layer Perceptron (MLP) Classifier on Wine Dataset\n",
    "\n",
    "This notebook demonstrates the use of a Multi-Layer Perceptron (MLP) Classifier to classify wine data from the UCI Wine dataset.\n",
    "We will load the dataset, preprocess it, train a neural network, and evaluate the model's performance."
   ]
  },
  {
   "cell_type": "code",
   "execution_count": null,
   "id": "e9aefab1",
   "metadata": {},
   "outputs": [],
   "source": [
    "# Import necessary libraries\n",
    "import numpy as np\n",
    "from sklearn.datasets import load_wine\n",
    "from sklearn.model_selection import train_test_split\n",
    "from sklearn.preprocessing import StandardScaler\n",
    "from sklearn.neural_network import MLPClassifier\n",
    "from sklearn.metrics import classification_report, accuracy_score"
   ]
  },
  {
   "cell_type": "markdown",
   "metadata": {},
   "source": [
    "### 1. Load the Wine Dataset\n",
    "The Wine dataset consists of 178 samples, each with 13 features, representing chemical properties of wines from three different cultivars.\n",
    "We will load the dataset and prepare it for training."
   ]
  },
  {
   "cell_type": "code",
   "execution_count": null,
   "id": "f3b59dbd",
   "metadata": {},
   "outputs": [],
   "source": [
    "# Load the Wine dataset\n",
    "data = load_wine()\n",
    "X = data.data\n",
    "y = data.target\n",
    "\n",
    "# Display the shape of the data and target arrays\n",
    "X.shape, y.shape"
   ]
  },
  {
   "cell_type": "markdown",
   "metadata": {},
   "source": [
    "### 2. Split the Dataset into Training and Testing Sets\n",
    "We will split the dataset into 70% training and 30% testing sets to evaluate the model's performance."
   ]
  },
  {
   "cell_type": "code",
   "execution_count": null,
   "id": "f9f84b2e",
   "metadata": {},
   "outputs": [],
   "source": [
    "# Split the dataset into training and testing sets\n",
    "X_train, X_test, y_train, y_test = train_test_split(X, y, test_size=0.3, random_state=42)\n",
    "\n",
    "# Check the shape of the training and test sets\n",
    "X_train.shape, X_test.shape"
   ]
  },
  {
   "cell_type": "markdown",
   "metadata": {},
   "source": [
    "### 3. Standardize the Data\n",
    "Standardizing the data is important for neural networks to ensure that all features have the same scale. This step is done using `StandardScaler`."
   ]
  },
  {
   "cell_type": "code",
   "execution_count": null,
   "id": "b82696cf",
   "metadata": {},
   "outputs": [],
   "source": [
    "# Standardize the data (important for neural networks)\n",
    "scaler = StandardScaler()\n",
    "X_train = scaler.fit_transform(X_train)\n",
    "X_test = scaler.transform(X_test)"
   ]
  },
  {
   "cell_type": "markdown",
   "metadata": {},
   "source": [
    "### 4. Initialize and Train the MLP Classifier\n",
    "We will now initialize the Multi-Layer Perceptron (MLP) Classifier with two hidden layers. The first hidden layer will have 50 units, and the second will have 30 units.\n",
    "We will also set the maximum number of iterations to 1000 for training."
   ]
  },
  {
   "cell_type": "code",
   "execution_count": null,
   "id": "b71b7989",
   "metadata": {},
   "outputs": [],
   "source": [
    "# Initialize the MLP classifier\n",
    "mlp = MLPClassifier(hidden_layer_sizes=(50, 30), max_iter=1000, random_state=42)\n",
    "\n",
    "# Train the model\n",
    "mlp.fit(X_train, y_train)"
   ]
  },
  {
   "cell_type": "markdown",
   "metadata": {},
   "source": [
    "### 5. Make Predictions and Evaluate the Model\n",
    "We will now use the trained MLP classifier to make predictions on the test set and evaluate its performance using accuracy and a classification report."
   ]
  },
  {
   "cell_type": "code",
   "execution_count": null,
   "id": "e80c5e56",
   "metadata": {},
   "outputs": [],
   "source": [
    "# Make predictions\n",
    "y_pred = mlp.predict(X_test)\n",
    "\n",
    "# Evaluate the model\n",
    "print(\"Accuracy Score:\", accuracy_score(y_test, y_pred))\n",
    "print(\"\\nClassification Report:\")\n",
    "print(classification_report(y_test, y_pred))"
   ]
  }
 ],
 "metadata": {
  "kernelspec": {
   "display_name": "Python 3",
   "language": "python",
   "name": "python3"
  },
  "language_info": {
   "codemirror_mode": {
    "name": "ipython",
    "version": 3
   },
   "file_extension": ".py",
   "mimetype": "text/x-python",
   "name": "python",
   "nbconvert_exporter": "python",
   "version": "3.8.10"
  }
 },
 "nbformat": 4,
 "nbformat_minor": 5
}
