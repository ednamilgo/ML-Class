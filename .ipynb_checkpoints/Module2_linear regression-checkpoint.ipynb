{
 "cells": [
  {
   "cell_type": "markdown",
   "id": "f4f01a97",
   "metadata": {},
   "source": [
    "# Step 1: Import Necessary Libraries\n",
    "In this step, we will import the required Python libraries: `numpy`, `pandas`, `matplotlib`, and `sklearn`. These libraries will help us work with data and implement linear regression.\n",
    "\n",
    "The libraries include:\n",
    "- `numpy`: for numerical operations\n",
    "- `pandas`: for data manipulation\n",
    "- `matplotlib.pyplot`: for visualizing the data\n",
    "- `sklearn.linear_model`: for linear regression\n",
    "- `sklearn.model_selection`: for splitting the data"
   ]
  },
  {
   "cell_type": "code",
   "execution_count": 1,
   "id": "874c5a66",
   "metadata": {},
   "outputs": [],
   "source": [
    "import numpy as np\n",
    "import pandas as pd\n",
    "import matplotlib.pyplot as plt\n",
    "from sklearn.linear_model import LinearRegression\n",
    "from sklearn.model_selection import train_test_split"
   ]
  },
  {
   "cell_type": "markdown",
   "id": "7b8ec0ae",
   "metadata": {},
   "source": [
    "# Step 2: Create Sample Data\n",
    "Next, we will create a small dataset that includes the independent variable `Square_Feet` (representing the size of houses) and the dependent variable `Price` (representing the price of houses).\n",
    "\n",
    "We will use the `pandas` library to store the data in a DataFrame.\n",
    "\n",
    "This dataset will serve as our example for performing linear regression to predict house prices based on square footage."
   ]
  },
  {
   "cell_type": "code",
   "execution_count": 2,
   "id": "fff1ab46",
   "metadata": {},
   "outputs": [],
   "source": [
    "# Sample Data\n",
    "data = {'Square_Feet': [1500, 1800, 2400, 3000, 3500, 4000, 4500, 5000],\n",
    "        'Price': [400000, 450000, 500000, 600000, 650000, 700000, 750000, 800000]}\n",
    "df = pd.DataFrame(data)\n",
    "\n",
    "# Display the DataFrame\n",
    "df.head()"
   ]
  },
  {
   "cell_type": "markdown",
   "id": "cb2abf5d",
   "metadata": {},
   "source": [
    "# Step 3: Split the Data into Training and Testing Sets\n",
    "In this step, we will split the data into training and testing sets.\n",
    "\n",
    "We will use the `train_test_split` function from `sklearn.model_selection` to divide our data. The training data will be used to train the model, while the testing data will be used to evaluate its performance.\n",
    "\n",
    "We'll use `Square_Feet` as the independent variable (feature) and `Price` as the dependent variable (target)."
   ]
  },
  {
   "cell_type": "code",
   "execution_count": 3,
   "id": "10dfab8a",
   "metadata": {},
   "outputs": [],
   "source": [
    "# Splitting the data into training and test sets\n",
    "X = df[['Square_Feet']]  # Independent variable (feature)\n",
    "y = df['Price']  # Dependent variable (target)\n",
    "X_train, X_test, y_train, y_test = train_test_split(X, y, test_size=0.2, random_state=42)\n",
    "\n",
    "# Display the shape of training and testing sets\n",
    "X_train.shape, X_test.shape, y_train.shape, y_test.shape"
   ]
  },
  {
   "cell_type": "markdown",
   "id": "16e24c84",
   "metadata": {},
   "source": [
    "# Step 4: Create and Train the Linear Regression Model\n",
    "Now that the data is split into training and testing sets, we will create a linear regression model and train it using the training data.\n",
    "\n",
    "The model will attempt to find the best-fitting line that represents the relationship between square footage and house price."
   ]
  },
  {
   "cell_type": "code",
   "execution_count": 4,
   "id": "dc603d07",
   "metadata": {},
   "outputs": [],
   "source": [
    "# Creating the model\n",
    "model = LinearRegression()\n",
    "model.fit(X_train, y_train)\n",
    "\n",
    "# Check the model coefficients\n",
    "model.intercept_, model.coef_"
   ]
  },
  {
   "cell_type": "markdown",
   "id": "07ddc1a8",
   "metadata": {},
   "source": [
    "# Step 5: Make Predictions and Plot Results\n",
    "After training the model, we can use it to make predictions on the testing data.\n",
    "\n",
    "We will then compare the actual house prices with the predicted values by plotting them on a graph. This will help us visually assess how well the model has performed."
   ]
  },
  {
   "cell_type": "code",
   "execution_count": 5,
   "id": "87b5ffc3",
   "metadata": {},
   "outputs": [],
   "source": [
    "# Making predictions\n",
    "y_pred = model.predict(X_test)\n",
    "\n",
    "# Plotting the results\n",
    "plt.scatter(X_test, y_test, color='blue', label='Actual Prices')\n",
    "plt.plot(X_test, y_pred, color='red', label='Predicted Prices')\n",
    "plt.title('Linear Regression: Actual vs Predicted Prices')\n",
    "plt.xlabel('Square Feet')\n",
    "plt.ylabel('Price')\n",
    "plt.legend()\n",
    "plt.show()"
   ]
  },
  {
   "cell_type": "markdown",
   "id": "cea55fad",
   "metadata": {},
   "source": [
    "# Step 6: Evaluate Model Performance\n",
    "Finally, we will evaluate the performance of the model by calculating performance metrics such as accuracy, precision, and recall. These metrics will help us assess how well the model is making predictions based on the test data."
   ]
  },
  {
   "cell_type": "code",
   "execution_count": 6,
   "id": "2e0bc40f",
   "metadata": {},
   "outputs": [],
   "source": [
    "# Model Evaluation\n",
    "from sklearn.metrics import mean_squared_error, r2_score\n",
    "\n",
    "# Calculate Mean Squared Error and R^2 Score\n",
    "mse = mean_squared_error(y_test, y_pred)\n",
    "r2 = r2_score(y_test, y_pred)\n",
    "\n",
    "print(f'Mean Squared Error: {mse}')\n",
    "print(f'R-squared: {r2}')"
   ]
  },
  {
   "cell_type": "markdown",
   "id": "b5f960ff",
   "metadata": {},
   "source": [
    "# Step 7: Conclusion\n",
    "In this project, we used a linear regression model to predict house prices based on square footage. We:\n",
    "- Created a dataset with house sizes and prices\n",
    "- Split the data into training and testing sets\n",
    "- Trained a linear regression model\n",
    "- Evaluated the model's performance\n",
    "\n",
    "The results showed that the model performed reasonably well, and it is capable of predicting house prices given the size of the house."
   ]
  }
 ],
 "metadata": {
  "kernelspec": {
   "display_name": "Python 3 (ipykernel)",
   "language": "python",
   "name": "python3"
  },
  "language_info": {
   "codemirror_mode": {
    "name": "ipython",
    "version": 3
   },
   "file_extension": ".py",
   "mimetype": "text/x-python",
   "name": "python",
   "nbconvert_exporter": "python",
   "pygments_lexer": "ipython3",
   "version": "3.11.7"
  }
 },
 "nbformat": 4,
 "nbformat_minor": 5
}
